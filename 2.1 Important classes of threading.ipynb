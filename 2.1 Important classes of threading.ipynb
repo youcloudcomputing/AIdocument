{
 "cells": [
  {
   "cell_type": "markdown",
   "metadata": {},
   "source": [
    "# Important class of threading\n",
    "event\n",
    "Semaphore\n",
    "local\n",
    "condition/lock"
   ]
  },
  {
   "cell_type": "markdown",
   "metadata": {},
   "source": [
    "# Signaling Between Threads\n",
    "Although the point of using multiple threads is to spin separate operations off to run concurrently, there are times when it is important to be able to synchronize the operations in two or more threads. A simple way to communicate between threads is using Event objects. An Event manages an internal flag that callers can either set() or clear(). Other threads can wait() for the flag to be set(), effectively blocking progress until allowed to continue."
   ]
  },
  {
   "cell_type": "code",
   "execution_count": 1,
   "metadata": {},
   "outputs": [
    {
     "name": "stderr",
     "output_type": "stream",
     "text": [
      "(block     ) wait_for_event starting\n",
      "(non-block ) wait_for_event_timeout starting\n",
      "(MainThread) Waiting before calling Event.set()\n",
      "(non-block ) event set: False\n",
      "(non-block ) doing other work\n",
      "(non-block ) wait_for_event_timeout starting\n",
      "(MainThread) Event is set\n",
      "(non-block ) event set: True\n",
      "(block     ) event set: True\n",
      "(non-block ) processing event\n"
     ]
    }
   ],
   "source": [
    "import logging\n",
    "import threading\n",
    "import time\n",
    "\n",
    "logging.basicConfig(level=logging.DEBUG,\n",
    "                    format='(%(threadName)-10s) %(message)s',\n",
    "                    )\n",
    "                    \n",
    "def wait_for_event(e):\n",
    "    \"\"\"Wait for the event to be set before doing anything\"\"\"\n",
    "    logging.debug('wait_for_event starting')\n",
    "    event_is_set = e.wait()\n",
    "    logging.debug('event set: %s', event_is_set)\n",
    "\n",
    "def wait_for_event_timeout(e, t):\n",
    "    \"\"\"Wait t seconds and then timeout\"\"\"\n",
    "    while not e.isSet():\n",
    "        logging.debug('wait_for_event_timeout starting')\n",
    "        event_is_set = e.wait(t)\n",
    "        logging.debug('event set: %s', event_is_set)\n",
    "        if event_is_set:\n",
    "            logging.debug('processing event')\n",
    "        else:\n",
    "            logging.debug('doing other work')\n",
    "\n",
    "\n",
    "e = threading.Event()\n",
    "t1 = threading.Thread(name='block', \n",
    "                      target=wait_for_event,\n",
    "                      args=(e,))\n",
    "t1.start()\n",
    "\n",
    "t2 = threading.Thread(name='non-block', \n",
    "                      target=wait_for_event_timeout, \n",
    "                      args=(e, 2))\n",
    "t2.start()\n",
    "\n",
    "logging.debug('Waiting before calling Event.set()')\n",
    "time.sleep(3)\n",
    "e.set()\n",
    "logging.debug('Event is set')"
   ]
  },
  {
   "cell_type": "markdown",
   "metadata": {},
   "source": [
    "## Semaphore-Limiting Concurrent Access to Resources -- Semaphore\n",
    "Sometimes it is useful to allow more than one worker access to a resource at a time, while still limiting the overall number. For example, a connection pool might support a fixed number of simultaneous connections, or a network application might support a fixed number of concurrent downloads. A Semaphore is one way to manage those connections."
   ]
  },
  {
   "cell_type": "code",
   "execution_count": 2,
   "metadata": {},
   "outputs": [
    {
     "name": "stderr",
     "output_type": "stream",
     "text": [
      "(0         ) Waiting to join the pool\n",
      "(1         ) Waiting to join the pool\n",
      "(2         ) Waiting to join the pool\n",
      "(3         ) Waiting to join the pool\n",
      "(0         ) Running: ['0']\n",
      "(1         ) Running: ['0', '1']\n",
      "(0         ) Running: ['1']\n",
      "(2         ) Running: ['1', '2']\n",
      "(1         ) Running: ['2']\n",
      "(3         ) Running: ['2', '3']\n",
      "(2         ) Running: ['3']\n",
      "(3         ) Running: []\n"
     ]
    }
   ],
   "source": [
    "import logging\n",
    "import random\n",
    "import threading\n",
    "import time\n",
    "\n",
    "logging.basicConfig(level=logging.DEBUG,\n",
    "                    format='%(asctime)s (%(threadName)-2s) %(message)s',\n",
    "                    )\n",
    "\n",
    "class ActivePool(object):\n",
    "    def __init__(self):\n",
    "        super(ActivePool, self).__init__()\n",
    "        self.active = []\n",
    "        self.lock = threading.Lock()\n",
    "    def makeActive(self, name):\n",
    "        with self.lock:\n",
    "            self.active.append(name)\n",
    "            logging.debug('Running: %s', self.active)\n",
    "    def makeInactive(self, name):\n",
    "        with self.lock:\n",
    "            self.active.remove(name)\n",
    "            logging.debug('Running: %s', self.active)\n",
    "\n",
    "def worker(s, pool):\n",
    "    logging.debug('Waiting to join the pool')\n",
    "    with s:\n",
    "        name = threading.currentThread().getName()\n",
    "        pool.makeActive(name)\n",
    "        time.sleep(0.1)\n",
    "        pool.makeInactive(name)\n",
    "\n",
    "pool = ActivePool()\n",
    "s = threading.Semaphore(2)\n",
    "for i in range(4):\n",
    "    t = threading.Thread(target=worker, name=str(i), args=(s, pool))\n",
    "    t.start()"
   ]
  },
  {
   "cell_type": "markdown",
   "metadata": {},
   "source": [
    "## Thread-specific Data--Local\n",
    "While some resources need to be locked so multiple threads can use them, others need to be protected so that they are hidden from view in threads that do not “own” them. The local() function creates an object capable of hiding values from view in separate threads."
   ]
  },
  {
   "cell_type": "code",
   "execution_count": 1,
   "metadata": {},
   "outputs": [
    {
     "name": "stderr",
     "output_type": "stream",
     "text": [
      "(MainThread) No value yet\n",
      "(MainThread) value=1000\n",
      "(Thread-4  ) No value yet\n",
      "(Thread-5  ) No value yet\n",
      "(Thread-4  ) value=57\n",
      "(Thread-5  ) value=11\n"
     ]
    }
   ],
   "source": [
    "import random\n",
    "import threading\n",
    "import logging\n",
    "\n",
    "logging.basicConfig(level=logging.DEBUG,\n",
    "                    format='(%(threadName)-10s) %(message)s',\n",
    "                    )\n",
    "\n",
    "def show_value(data):\n",
    "    try:\n",
    "        val = data.value\n",
    "    except AttributeError:\n",
    "        logging.debug('No value yet')\n",
    "    else:\n",
    "        logging.debug('value=%s', val)\n",
    "\n",
    "\n",
    "def worker(data):\n",
    "    show_value(data)\n",
    "    data.value = random.randint(1, 100)\n",
    "    show_value(data)\n",
    "\n",
    "local_data = threading.local()\n",
    "show_value(local_data)\n",
    "local_data.value = 1000\n",
    "show_value(local_data)\n",
    "\n",
    "for i in range(2):\n",
    "    t = threading.Thread(target=worker, args=(local_data,))\n",
    "    t.start()"
   ]
  },
  {
   "cell_type": "markdown",
   "metadata": {},
   "source": [
    "Notice that local_data.value is not present for any thread until it is set in that thread.\n",
    "To initialize the settings so all threads start with the same value, use a subclass and set the attributes in __init__()."
   ]
  },
  {
   "cell_type": "code",
   "execution_count": 2,
   "metadata": {},
   "outputs": [
    {
     "name": "stderr",
     "output_type": "stream",
     "text": [
      "(MainThread) Initializing <__main__.MyLocal object at 0x7f470c45aa08>\n",
      "(MainThread) value=1000\n",
      "(Thread-6  ) Initializing <__main__.MyLocal object at 0x7f470c45aa08>\n",
      "(Thread-7  ) Initializing <__main__.MyLocal object at 0x7f470c45aa08>\n",
      "(Thread-6  ) value=1000\n",
      "(Thread-7  ) value=1000\n",
      "(Thread-6  ) value=35\n",
      "(Thread-7  ) value=88\n"
     ]
    }
   ],
   "source": [
    "import random\n",
    "import threading\n",
    "import logging\n",
    "\n",
    "logging.basicConfig(level=logging.DEBUG,\n",
    "                    format='(%(threadName)-10s) %(message)s',\n",
    "                    )\n",
    "\n",
    "\n",
    "def show_value(data):\n",
    "    try:\n",
    "        val = data.value\n",
    "    except AttributeError:\n",
    "        logging.debug('No value yet')\n",
    "    else:\n",
    "        logging.debug('value=%s', val)\n",
    "\n",
    "def worker(data):\n",
    "    show_value(data)\n",
    "    data.value = random.randint(1, 100)\n",
    "    show_value(data)\n",
    "\n",
    "class MyLocal(threading.local):\n",
    "    def __init__(self, value):\n",
    "        logging.debug('Initializing %r', self)\n",
    "        self.value = value\n",
    "\n",
    "local_data = MyLocal(1000)\n",
    "show_value(local_data)\n",
    "\n",
    "for i in range(2):\n",
    "    t = threading.Thread(target=worker, args=(local_data,))\n",
    "    t.start()"
   ]
  },
  {
   "cell_type": "markdown",
   "metadata": {},
   "source": [
    "## Synchronizing Threads--Condition¶\n",
    "In addition to using Events, another way of synchronizing threads is through using a Condition object. Because the Condition uses a Lock, it can be tied to a shared resource. This allows threads to wait for the resource to be updated. In this example, the consumer() threads wait() for the Condition to be set before continuing. The producer() thread is responsible for setting the condition and notifying the other threads that they can continue."
   ]
  },
  {
   "cell_type": "code",
   "execution_count": 3,
   "metadata": {},
   "outputs": [
    {
     "name": "stderr",
     "output_type": "stream",
     "text": [
      "(c1        ) Starting consumer thread\n",
      "(c2        ) Starting consumer thread\n",
      "(p         ) Starting producer thread\n",
      "(p         ) Making resource available\n",
      "(c1        ) Resource is available to consumer\n",
      "(c2        ) Resource is available to consumer\n"
     ]
    }
   ],
   "source": [
    "import logging\n",
    "import threading\n",
    "import time\n",
    "\n",
    "logging.basicConfig(level=logging.DEBUG,\n",
    "                    format='%(asctime)s (%(threadName)-2s) %(message)s',\n",
    "                    )\n",
    "\n",
    "def consumer(cond):\n",
    "    \"\"\"wait for the condition and use the resource\"\"\"\n",
    "    logging.debug('Starting consumer thread')\n",
    "    t = threading.currentThread()\n",
    "    with cond:\n",
    "        cond.wait()\n",
    "        logging.debug('Resource is available to consumer')\n",
    "\n",
    "def producer(cond):\n",
    "    \"\"\"set up the resource to be used by the consumer\"\"\"\n",
    "    logging.debug('Starting producer thread')\n",
    "    with cond:\n",
    "        logging.debug('Making resource available')\n",
    "        cond.notifyAll()\n",
    "\n",
    "condition = threading.Condition()\n",
    "c1 = threading.Thread(name='c1', target=consumer, args=(condition,))\n",
    "c2 = threading.Thread(name='c2', target=consumer, args=(condition,))\n",
    "p = threading.Thread(name='p', target=producer, args=(condition,))\n",
    "\n",
    "c1.start()\n",
    "time.sleep(2)\n",
    "c2.start()\n",
    "time.sleep(2)\n",
    "p.start()"
   ]
  }
 ],
 "metadata": {
  "kernelspec": {
   "display_name": "Python 3",
   "language": "python",
   "name": "python3"
  },
  "language_info": {
   "codemirror_mode": {
    "name": "ipython",
    "version": 3
   },
   "file_extension": ".py",
   "mimetype": "text/x-python",
   "name": "python",
   "nbconvert_exporter": "python",
   "pygments_lexer": "ipython3",
   "version": "3.7.3"
  }
 },
 "nbformat": 4,
 "nbformat_minor": 2
}
