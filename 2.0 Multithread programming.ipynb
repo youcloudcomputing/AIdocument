{
 "cells": [
  {
   "cell_type": "markdown",
   "metadata": {},
   "source": [
    "# 2. 0 Python Multithread programming\n",
    "\n",
    "https://opensource.com/article/17/4/grok-gil\n",
    "\n",
    "https://docs.python.org/3/library/threading.html\n",
    "\n",
    "A thread is an entity within a process that can be scheduled for execution. Also, it is the smallest unit of processing that can be performed in an OS (Operating System).\n",
    "\n",
    "In simple words, a thread is a sequence of such instructions within a program that can be executed independently of other code. For simplicity, you can assume that a thread is simply a subset of a process!\n",
    "\n"
   ]
  },
  {
   "cell_type": "markdown",
   "metadata": {},
   "source": [
    "## Starting a Thread"
   ]
  },
  {
   "cell_type": "code",
   "execution_count": 1,
   "metadata": {},
   "outputs": [
    {
     "name": "stdout",
     "output_type": "stream",
     "text": [
      "Square: 100\n",
      "Cube: 1000\n",
      "Done!\n"
     ]
    }
   ],
   "source": [
    "# Python program to illustrate the concept \n",
    "# of threading \n",
    "# importing the threading module \n",
    "import threading \n",
    "  \n",
    "def print_cube(num): \n",
    "    \"\"\" \n",
    "    function to print cube of given num \n",
    "    \"\"\"\n",
    "    print(\"Cube: {}\".format(num * num * num)) \n",
    "  \n",
    "def print_square(num): \n",
    "    \"\"\" \n",
    "    function to print square of given num \n",
    "    \"\"\"\n",
    "    print(\"Square: {}\".format(num * num)) \n",
    "  \n",
    "if __name__ == \"__main__\": \n",
    "    # creating thread \n",
    "    t1 = threading.Thread(target=print_square, args=(10,)) \n",
    "    t2 = threading.Thread(target=print_cube, args=(10,)) \n",
    "  \n",
    "    # starting thread 1 \n",
    "    t1.start() \n",
    "    # starting thread 2 \n",
    "    t2.start() \n",
    "  \n",
    "    # wait until thread 1 is completely executed \n",
    "    t1.join() \n",
    "    # wait until thread 2 is completely executed \n",
    "    t2.join() \n",
    "  \n",
    "    # both threads completely executed \n",
    "    print(\"Done!\") "
   ]
  },
  {
   "cell_type": "markdown",
   "metadata": {},
   "source": [
    "## Get some information of thread.\n",
    "A thread contains all this information in a Thread Control Block (TCB):\n",
    "Thread Identifier: Unique id (TID) is assigned to every new thread\n",
    "Stack pointer: Points to thread’s stack in the process. Stack contains the local variables under thread’s scope.\n",
    "Program counter: a register which stores the address of the instruction currently being executed by thread.\n",
    "Thread state: can be running, ready, waiting, start or done.\n",
    "Thread’s register set: registers assigned to thread for computations.\n",
    "Parent process Pointer: A pointer to the Process control block (PCB) of the process that the thread lives on.\n",
    "Consider the diagram below to understand the relation between process and its thread:"
   ]
  },
  {
   "cell_type": "code",
   "execution_count": 2,
   "metadata": {},
   "outputs": [
    {
     "name": "stdout",
     "output_type": "stream",
     "text": [
      "ID of process running main program: 43\n",
      "Main thread name: MainThread\n",
      "Task 1 assigned to thread: t1\n",
      "the thread iden: 140118761379584\n",
      "ID of process running task 1: 43\n",
      "Task 2 assigned to thread: t2\n",
      "ID of process running task 2: 43\n"
     ]
    }
   ],
   "source": [
    "# Python program to illustrate the concept \n",
    "# of threading \n",
    "import threading \n",
    "import os \n",
    "  \n",
    "def task1(): \n",
    "    print(\"Task 1 assigned to thread: {}\".format(threading.current_thread().name)) \n",
    "    print(\"the thread iden: {}\".format(threading.current_thread().ident)) \n",
    "    print(\"ID of process running task 1: {}\".format(os.getpid())) \n",
    "  \n",
    "def task2(): \n",
    "    print(\"Task 2 assigned to thread: {}\".format(threading.current_thread().name)) \n",
    "    print(\"ID of process running task 2: {}\".format(os.getpid())) \n",
    "  \n",
    "if __name__ == \"__main__\": \n",
    "  \n",
    "    # print ID of current process \n",
    "    print(\"ID of process running main program: {}\".format(os.getpid())) \n",
    "  \n",
    "    # print name of main thread \n",
    "    print(\"Main thread name: {}\".format(threading.main_thread().name)) \n",
    "  \n",
    "    # creating threads \n",
    "    t1 = threading.Thread(target=task1, name='t1') \n",
    "    t2 = threading.Thread(target=task2, name='t2')   \n",
    "  \n",
    "    # starting threads \n",
    "    t1.start() \n",
    "    t2.start() \n",
    "  \n",
    "    # wait until all threads finish \n",
    "    t1.join() \n",
    "    t2.join() "
   ]
  },
  {
   "cell_type": "markdown",
   "metadata": {},
   "source": [
    "## Could multithread help? \n",
    "in case..."
   ]
  },
  {
   "cell_type": "markdown",
   "metadata": {},
   "source": [
    "## Problem: add 1 to n for many times."
   ]
  },
  {
   "cell_type": "code",
   "execution_count": 1,
   "metadata": {},
   "outputs": [],
   "source": [
    "import socket\n",
    "n = 0\n",
    "\n",
    "def foo():\n",
    "    global n\n",
    "    n += 1\n",
    "#    sleep(10)\n",
    "#    s = socket.socket()\n",
    "#    s.connect(('python.org', 80))  # drop the GIL"
   ]
  },
  {
   "cell_type": "code",
   "execution_count": 2,
   "metadata": {},
   "outputs": [
    {
     "name": "stdout",
     "output_type": "stream",
     "text": [
      "10000000\n",
      "CPU times: user 1.51 s, sys: 3.95 ms, total: 1.52 s\n",
      "Wall time: 1.54 s\n"
     ]
    }
   ],
   "source": [
    "%%time\n",
    "# single thread \n",
    "for i in range(10000000):\n",
    "    foo()\n",
    "print(n)    "
   ]
  },
  {
   "cell_type": "code",
   "execution_count": 30,
   "metadata": {},
   "outputs": [
    {
     "name": "stdout",
     "output_type": "stream",
     "text": [
      "CPU times: user 15.7 s, sys: 332 ms, total: 16 s\n",
      "Wall time: 16 s\n"
     ]
    }
   ],
   "source": [
    "%%time\n",
    "#multiple threads  \n",
    "\n",
    "threads = []\n",
    "\n",
    "for i in range(1000):\n",
    "    t = threading.Thread(target=foo)\n",
    "    threads.append(t)\n"
   ]
  },
  {
   "cell_type": "code",
   "execution_count": 26,
   "metadata": {
    "scrolled": true
   },
   "outputs": [
    {
     "name": "stdout",
     "output_type": "stream",
     "text": [
      "11000\n",
      "CPU times: user 170 ms, sys: 860 ms, total: 1.03 s\n",
      "Wall time: 487 ms\n"
     ]
    }
   ],
   "source": [
    "%%time\n",
    "for t in threads:\n",
    "    t.start()\n",
    "\n",
    "for t in threads:\n",
    "    t.join()\n",
    "\n",
    "print(n)    "
   ]
  },
  {
   "cell_type": "markdown",
   "metadata": {},
   "source": [
    "which one is faster? "
   ]
  },
  {
   "cell_type": "markdown",
   "metadata": {},
   "source": [
    "what if to add a sleep(10)?\n",
    "\n",
    "Why?"
   ]
  },
  {
   "cell_type": "markdown",
   "metadata": {},
   "source": [
    "## The global interpreter lock\n",
    "Here it is:\n",
    "\n",
    "static PyThread_type_lock interpreter_lock = 0; /* This is the GIL */\n",
    "This line of code is in ceval.c, in the CPython 2.7 interpreter's source code. Guido van Rossum's comment, \"This is the GIL,\" was added in 2003, but the lock itself dates from his first multithreaded Python interpreter in 1997. On Unix systems, PyThread_type_lock is an alias for the standard C lock, mutex_t. "
   ]
  },
  {
   "cell_type": "markdown",
   "metadata": {},
   "source": [
    "Different python implements. CPython, Jython, PyPy, or IronPython\n",
    "What kind of Python implementation is using?   "
   ]
  },
  {
   "cell_type": "code",
   "execution_count": 20,
   "metadata": {},
   "outputs": [
    {
     "data": {
      "text/plain": [
       "'CPython'"
      ]
     },
     "execution_count": 20,
     "metadata": {},
     "output_type": "execute_result"
    }
   ],
   "source": [
    "import platform\n",
    "platform.python_implementation()"
   ]
  },
  {
   "cell_type": "code",
   "execution_count": 21,
   "metadata": {},
   "outputs": [
    {
     "name": "stdout",
     "output_type": "stream",
     "text": [
      "  6           0 LOAD_GLOBAL              0 (n)\n",
      "              2 LOAD_CONST               1 (1)\n",
      "              4 INPLACE_ADD\n",
      "              6 STORE_GLOBAL             0 (n)\n",
      "\n",
      "  8           8 LOAD_GLOBAL              1 (socket)\n",
      "             10 LOAD_METHOD              1 (socket)\n",
      "             12 CALL_METHOD              0\n",
      "             14 STORE_FAST               0 (s)\n",
      "\n",
      "  9          16 LOAD_FAST                0 (s)\n",
      "             18 LOAD_METHOD              2 (connect)\n",
      "             20 LOAD_CONST               2 (('python.org', 80))\n",
      "             22 CALL_METHOD              1\n",
      "             24 POP_TOP\n",
      "             26 LOAD_CONST               0 (None)\n",
      "             28 RETURN_VALUE\n"
     ]
    }
   ],
   "source": [
    "import dis\n",
    "dis.dis(foo)"
   ]
  },
  {
   "cell_type": "markdown",
   "metadata": {},
   "source": [
    "/* s.connect((host, port)) method */\n",
    "static PyObject *\n",
    "sock_connect(PySocketSockObject *s, PyObject *addro)\n",
    "{\n",
    "    sock_addr_t addrbuf;\n",
    "    int addrlen;\n",
    "    int res;\n",
    "\n",
    "    /* convert (host, port) tuple to C address */\n",
    "    getsockaddrarg(s, addro, SAS2SA(&addrbuf), &addrlen);\n",
    "\n",
    "    Py_BEGIN_ALLOW_THREADS\n",
    "    res = connect(s->sock_fd, addr, addrlen);\n",
    "    Py_END_ALLOW_THREADS\n",
    "\n",
    "    /* error handling and so on .... */\n",
    "}"
   ]
  },
  {
   "cell_type": "markdown",
   "metadata": {},
   "source": [
    "## threading conclusion\n",
    "1. multiple threading is supported.\n",
    "2. python code \n",
    "3. system code\n"
   ]
  },
  {
   "cell_type": "code",
   "execution_count": null,
   "metadata": {},
   "outputs": [],
   "source": [
    "Questions:\n",
    "    1. the more thread the faster?\n",
    "    2. the relationship between cpu and thread?"
   ]
  },
  {
   "cell_type": "markdown",
   "metadata": {},
   "source": [
    "## the potential issue of the multithreading solution\n",
    "\n",
    "the result could be wrong in some cases.\n"
   ]
  },
  {
   "cell_type": "code",
   "execution_count": 31,
   "metadata": {},
   "outputs": [],
   "source": [
    "n = 0\n",
    "\n",
    "def foo():\n",
    "    global n\n",
    "    n += 1"
   ]
  },
  {
   "cell_type": "code",
   "execution_count": 32,
   "metadata": {},
   "outputs": [
    {
     "name": "stdout",
     "output_type": "stream",
     "text": [
      "  5           0 LOAD_GLOBAL              0 (n)\n",
      "              2 LOAD_CONST               1 (1)\n",
      "              4 INPLACE_ADD\n",
      "              6 STORE_GLOBAL             0 (n)\n",
      "              8 LOAD_CONST               0 (None)\n",
      "             10 RETURN_VALUE\n"
     ]
    }
   ],
   "source": [
    ">>> import dis\n",
    ">>> dis.dis(foo)"
   ]
  },
  {
   "cell_type": "markdown",
   "metadata": {},
   "source": [
    "### Lock Objects\n",
    "A primitive lock is a synchronization primitive that is not owned by a particular thread when locked. In Python, it is currently the lowest level synchronization primitive available, implemented directly by the _thread extension module."
   ]
  },
  {
   "cell_type": "markdown",
   "metadata": {},
   "source": [
    "with some_lock:\n",
    "    # do something...\n",
    "is equivalent to:\n",
    "\n",
    "some_lock.acquire()\n",
    "try:\n",
    "    # do something...\n",
    "finally:\n",
    "    some_lock.release()"
   ]
  },
  {
   "cell_type": "code",
   "execution_count": 33,
   "metadata": {},
   "outputs": [],
   "source": [
    "\n",
    "n = 0\n",
    "locker = threading.Lock()\n",
    "def foo():\n",
    "    with locker:\n",
    "        global n\n",
    "        n += 1"
   ]
  },
  {
   "cell_type": "code",
   "execution_count": 34,
   "metadata": {},
   "outputs": [
    {
     "name": "stdout",
     "output_type": "stream",
     "text": [
      "10\n",
      "CPU times: user 1.54 s, sys: 25.8 ms, total: 1.56 s\n",
      "Wall time: 1.56 s\n"
     ]
    }
   ],
   "source": [
    "%%time\n",
    "#multiple threads  \n",
    "\n",
    "threads = []\n",
    "\n",
    "for i in range(10):\n",
    "    t = threading.Thread(target=foo)\n",
    "    threads.append(t)\n",
    "\n",
    "for t in threads:\n",
    "    t.start()\n",
    "\n",
    "for t in threads:\n",
    "    t.join()\n",
    "\n",
    "print(n) "
   ]
  },
  {
   "cell_type": "markdown",
   "metadata": {},
   "source": [
    "# Thread pool example\n",
    "https://docs.python.org/3/library/concurrent.futures.html?highlight=concurence\n"
   ]
  },
  {
   "cell_type": "code",
   "execution_count": 35,
   "metadata": {},
   "outputs": [
    {
     "name": "stdout",
     "output_type": "stream",
     "text": [
      "0\n"
     ]
    }
   ],
   "source": [
    "import concurrent.futures\n",
    "\n",
    "n = 0\n",
    "locker = threading.Lock()\n",
    "def foo():\n",
    "    with locker:\n",
    "        global n\n",
    "        n += 1\n",
    "\n",
    "with concurrent.futures.ThreadPoolExecutor(max_workers=3) as executor:\n",
    "        executor.map(foo, )\n",
    "print(n)\n"
   ]
  },
  {
   "cell_type": "code",
   "execution_count": 9,
   "metadata": {},
   "outputs": [],
   "source": []
  },
  {
   "cell_type": "code",
   "execution_count": 8,
   "metadata": {},
   "outputs": [],
   "source": [
    "concurrent.futures.ThreadPoolExecuto"
   ]
  }
 ],
 "metadata": {
  "kernelspec": {
   "display_name": "Python 3",
   "language": "python",
   "name": "python3"
  },
  "language_info": {
   "codemirror_mode": {
    "name": "ipython",
    "version": 3
   },
   "file_extension": ".py",
   "mimetype": "text/x-python",
   "name": "python",
   "nbconvert_exporter": "python",
   "pygments_lexer": "ipython3",
   "version": "3.7.3"
  }
 },
 "nbformat": 4,
 "nbformat_minor": 2
}
